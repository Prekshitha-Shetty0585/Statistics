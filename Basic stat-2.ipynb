{
 "cells": [
  {
   "cell_type": "code",
   "execution_count": null,
   "id": "616db8f4-ef1e-4041-8b03-d1708cfe98b2",
   "metadata": {},
   "outputs": [],
   "source": [
    "##### a. Build 99% Confidence Interval Using Sample Standard Deviation"
   ]
  },
  {
   "cell_type": "markdown",
   "id": "c7d058e8-29ab-47fb-b611-e2141c44102f",
   "metadata": {},
   "source": [
    "##### a. Build 99% Confidence Interval Using Sample Standard Deviation\n",
    "Assuming the sample is representative of the population, construct a 99% confidence interval for the mean number of characters printed before the print-head fails using the sample standard deviation. Explain the steps you take and the rationale behind using the t-distribution for this task."
   ]
  },
  {
   "cell_type": "code",
   "execution_count": 1,
   "id": "3aa694ad-7957-4794-94f0-86bd2a0e1905",
   "metadata": {},
   "outputs": [
    {
     "name": "stdout",
     "output_type": "stream",
     "text": [
      "99% Confidence Interval using sample standard deviation: (1.090, 1.387)\n"
     ]
    }
   ],
   "source": [
    "import numpy as np\n",
    "from scipy import stats\n",
    "# Sample data\n",
    "data = np.array([1.13, 1.55, 1.43, 0.92, 1.25, 1.36, 1.32, 0.85, 1.07, 1.48, 1.20, 1.33, 1.18, 1.22, 1.29])\n",
    "# Sample size\n",
    "n = len(data)\n",
    "# Sample mean\n",
    "sample_mean = np.mean(data)\n",
    "# Sample standard deviation\n",
    "sample_std = np.std(data, ddof=1)\n",
    "# Confidence level and alpha\n",
    "confidence_level = 0.99\n",
    "alpha = 1 - confidence_level\n",
    "# t-score for 99% confidence level with n-1 degrees of freedom\n",
    "t_critical = stats.t.ppf(1 - alpha/2, df=n-1)\n",
    "# Margin of error\n",
    "margin_of_error = t_critical * (sample_std / np.sqrt(n))\n",
    "# Confidence interval\n",
    "ci_lower = sample_mean - margin_of_error\n",
    "ci_upper = sample_mean + margin_of_error\n",
    "print(f\"99% Confidence Interval using sample standard deviation: ({ci_lower:.3f}, {ci_upper:.3f})\")"
   ]
  },
  {
   "cell_type": "markdown",
   "id": "3d626f78-71e0-4368-ba5b-228246972d69",
   "metadata": {},
   "source": [
    "##### b. Build 99% Confidence Interval Using Known Population Standard Deviation\n",
    "If it were known that the population standard deviation is 0.2 million characters, construct a 99% confidence interval for the mean number of characters printed before failure."
   ]
  },
  {
   "cell_type": "code",
   "execution_count": null,
   "id": "80020e54-faf0-4e97-9703-f625aca3a9aa",
   "metadata": {},
   "outputs": [],
   "source": [
    "##### b. Build 99% Confidence Interval Using Known Population Standard Deviation"
   ]
  },
  {
   "cell_type": "code",
   "execution_count": null,
   "id": "9ccb7326-78e8-4021-9df6-8b1b4c65c866",
   "metadata": {},
   "outputs": [],
   "source": [
    "# Known population standard deviation\n",
    "population_std = 0.2\n",
    "# z-score for 99% confidence level\n",
    "z_critical = stats.norm.ppf(1 - alpha/2)\n",
    "# Margin of error\n",
    "margin_of_error_known_sigma = z_critical * (population_std / np.sqrt(n))\n",
    "# Confidence interval\n",
    "ci_lower_known_sigma = sample_mean - margin_of_error_known_sigma\n",
    "ci_upper_known_sigma = sample_mean + margin_of_error_known_sigma\n",
    "print(f\"99% Confidence Interval using known population standard deviation: ({ci_lower_known_sigma:.3f}, {ci_upper_known_sigma:.3f})\")"
   ]
  }
 ],
 "metadata": {
  "kernelspec": {
   "display_name": "Python 3 (ipykernel)",
   "language": "python",
   "name": "python3"
  },
  "language_info": {
   "codemirror_mode": {
    "name": "ipython",
    "version": 3
   },
   "file_extension": ".py",
   "mimetype": "text/x-python",
   "name": "python",
   "nbconvert_exporter": "python",
   "pygments_lexer": "ipython3",
   "version": "3.11.7"
  }
 },
 "nbformat": 4,
 "nbformat_minor": 5
}
